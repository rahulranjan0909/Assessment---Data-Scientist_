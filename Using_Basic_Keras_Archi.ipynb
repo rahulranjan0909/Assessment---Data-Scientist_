{
 "cells": [
  {
   "cell_type": "code",
   "execution_count": 1,
   "id": "3452d638",
   "metadata": {},
   "outputs": [
    {
     "name": "stdout",
     "output_type": "stream",
     "text": [
      "Found 2788 images belonging to 10 classes.\n",
      "Found 694 images belonging to 10 classes.\n"
     ]
    }
   ],
   "source": [
    "import os\n",
    "import numpy as np\n",
    "import tensorflow as tf\n",
    "from tensorflow.keras.preprocessing.image import ImageDataGenerator\n",
    "from tensorflow.keras.models import Sequential\n",
    "from tensorflow.keras.layers import Conv2D, MaxPooling2D, Flatten, Dense\n",
    "\n",
    "# Step 2: Prepare your dataset\n",
    "dataset_dir = r\"C:\\Users\\RahulSingh\\Downloads\\Dataset\\Dataset\\Dataset\\Classification\"\n",
    "\n",
    "# Step 3: Define transformations using ImageDataGenerator\n",
    "datagen = ImageDataGenerator(rescale=1./255, validation_split=0.2)\n",
    "\n",
    "train_generator = datagen.flow_from_directory(\n",
    "    dataset_dir,\n",
    "    target_size=(150, 150),\n",
    "    batch_size=32,\n",
    "    class_mode='categorical',\n",
    "    subset='training')\n",
    "\n",
    "validation_generator = datagen.flow_from_directory(\n",
    "    dataset_dir,\n",
    "    target_size=(150, 150),\n",
    "    batch_size=32,\n",
    "    class_mode='categorical',\n",
    "    subset='validation')"
   ]
  },
  {
   "cell_type": "code",
   "execution_count": 10,
   "id": "31e67699",
   "metadata": {},
   "outputs": [
    {
     "data": {
      "text/plain": [
       "<keras.src.preprocessing.image.DirectoryIterator at 0x227ae6be140>"
      ]
     },
     "execution_count": 10,
     "metadata": {},
     "output_type": "execute_result"
    }
   ],
   "source": [
    "train_generator"
   ]
  },
  {
   "cell_type": "code",
   "execution_count": 2,
   "id": "09729e43",
   "metadata": {},
   "outputs": [
    {
     "name": "stdout",
     "output_type": "stream",
     "text": [
      "Epoch 1/10\n",
      "88/88 [==============================] - 289s 3s/step - loss: 1.7327 - accuracy: 0.4544 - val_loss: 1.3415 - val_accuracy: 0.5375\n",
      "Epoch 2/10\n",
      "88/88 [==============================] - 236s 3s/step - loss: 1.0827 - accuracy: 0.6395 - val_loss: 1.2835 - val_accuracy: 0.5951\n",
      "Epoch 3/10\n",
      "88/88 [==============================] - 214s 2s/step - loss: 0.8265 - accuracy: 0.7245 - val_loss: 1.2868 - val_accuracy: 0.6052\n",
      "Epoch 4/10\n",
      "88/88 [==============================] - 220s 2s/step - loss: 0.5918 - accuracy: 0.8074 - val_loss: 1.3922 - val_accuracy: 0.5879\n",
      "Epoch 5/10\n",
      "88/88 [==============================] - 268s 3s/step - loss: 0.3687 - accuracy: 0.8780 - val_loss: 1.7680 - val_accuracy: 0.5778\n",
      "Epoch 6/10\n",
      "88/88 [==============================] - 230s 3s/step - loss: 0.1771 - accuracy: 0.9430 - val_loss: 1.8804 - val_accuracy: 0.5937\n",
      "Epoch 7/10\n",
      "88/88 [==============================] - 218s 2s/step - loss: 0.1522 - accuracy: 0.9580 - val_loss: 1.7562 - val_accuracy: 0.5418\n",
      "Epoch 8/10\n",
      "88/88 [==============================] - 218s 2s/step - loss: 0.1078 - accuracy: 0.9702 - val_loss: 2.0964 - val_accuracy: 0.6138\n",
      "Epoch 9/10\n",
      "88/88 [==============================] - 282s 3s/step - loss: 0.0522 - accuracy: 0.9871 - val_loss: 2.3236 - val_accuracy: 0.5865\n",
      "Epoch 10/10\n",
      "88/88 [==============================] - 322s 4s/step - loss: 0.0113 - accuracy: 0.9986 - val_loss: 2.6221 - val_accuracy: 0.6110\n"
     ]
    },
    {
     "data": {
      "text/plain": [
       "<keras.src.callbacks.History at 0x227bc80d090>"
      ]
     },
     "execution_count": 2,
     "metadata": {},
     "output_type": "execute_result"
    }
   ],
   "source": [
    "# Step 6: Define a model\n",
    "model = Sequential([\n",
    "    Conv2D(32, (3, 3), activation='relu', input_shape=(150, 150, 3)),\n",
    "    MaxPooling2D(2, 2),\n",
    "    Conv2D(64, (3, 3), activation='relu'),\n",
    "    MaxPooling2D(2, 2),\n",
    "    Conv2D(128, (3, 3), activation='relu'),\n",
    "    MaxPooling2D(2, 2),\n",
    "    Flatten(),\n",
    "    Dense(512, activation='relu'),\n",
    "    Dense(len(train_generator.class_indices), activation='softmax')\n",
    "])\n",
    "\n",
    "# Step 7: Compile the model\n",
    "model.compile(optimizer='adam',\n",
    "              loss='categorical_crossentropy',\n",
    "              metrics=['accuracy'])\n",
    "\n",
    "# Step 9: Train the model\n",
    "num_epochs = 10\n",
    "model.fit(\n",
    "    train_generator,\n",
    "    epochs=num_epochs,\n",
    "    validation_data=validation_generator\n",
    ")"
   ]
  },
  {
   "cell_type": "code",
   "execution_count": 3,
   "id": "ce5db4f7",
   "metadata": {},
   "outputs": [
    {
     "name": "stdout",
     "output_type": "stream",
     "text": [
      "22/22 [==============================] - 65s 3s/step - loss: 2.6221 - accuracy: 0.6110\n",
      "Validation Accuracy: 0.6109510064125061\n"
     ]
    }
   ],
   "source": [
    "# Step 10: Evaluate the model\n",
    "test_loss, test_accuracy = model.evaluate(validation_generator)\n",
    "print(f\"Validation Accuracy: {test_accuracy}\")"
   ]
  },
  {
   "cell_type": "code",
   "execution_count": 7,
   "id": "34da2d1a",
   "metadata": {},
   "outputs": [
    {
     "name": "stdout",
     "output_type": "stream",
     "text": [
      "1/1 [==============================] - 0s 104ms/step\n"
     ]
    }
   ],
   "source": [
    "from tensorflow.keras.preprocessing import image\n",
    "import numpy as np\n",
    "\n",
    "# Load the new image\n",
    "new_image_path = r\"C:\\Users\\RahulSingh\\Downloads\\e.jpg\"  # Replace 'path_to_your_new_image.jpg' with the actual path to your new image\n",
    "new_image = image.load_img(new_image_path, target_size=(150, 150))\n",
    "\n",
    "# Preprocess the image\n",
    "new_image = image.img_to_array(new_image)\n",
    "new_image = np.expand_dims(new_image, axis=0)\n",
    "new_image = new_image / 255.0  # Rescale the pixel values to [0, 1]\n",
    "\n",
    "# Make predictions\n",
    "predictions = model.predict(new_image)"
   ]
  },
  {
   "cell_type": "code",
   "execution_count": 8,
   "id": "2c5be098",
   "metadata": {},
   "outputs": [
    {
     "data": {
      "text/plain": [
       "array([[1.2063695e-05, 1.0142624e-02, 2.0957589e-02, 3.4826891e-03,\n",
       "        1.1943288e-02, 5.1143197e-06, 3.1028194e-02, 3.4338210e-02,\n",
       "        2.3327374e-01, 6.5481651e-01]], dtype=float32)"
      ]
     },
     "execution_count": 8,
     "metadata": {},
     "output_type": "execute_result"
    }
   ],
   "source": [
    "predictions "
   ]
  },
  {
   "cell_type": "code",
   "execution_count": 9,
   "id": "fab8694b",
   "metadata": {},
   "outputs": [
    {
     "name": "stdout",
     "output_type": "stream",
     "text": [
      "Predicted Class: Scientific\n"
     ]
    }
   ],
   "source": [
    "predicted_class_index = np.argmax(predictions)\n",
    "class_labels = train_generator.class_indices\n",
    "predicted_class_label = [k for k, v in class_labels.items() if v == predicted_class_index][0]\n",
    "print(\"Predicted Class:\", predicted_class_label)"
   ]
  },
  {
   "cell_type": "code",
   "execution_count": 53,
   "id": "457b2960",
   "metadata": {},
   "outputs": [
    {
     "name": "stderr",
     "output_type": "stream",
     "text": [
      "C:\\Users\\RahulSingh\\AppData\\Roaming\\Python\\Python310\\site-packages\\keras\\src\\engine\\training.py:3079: UserWarning: You are saving your model as an HDF5 file via `model.save()`. This file format is considered legacy. We recommend using instead the native Keras format, e.g. `model.save('my_model.keras')`.\n",
      "  saving_api.save_model(\n"
     ]
    }
   ],
   "source": [
    "model.save(\"keras_10_epoch.h5\")"
   ]
  },
  {
   "cell_type": "code",
   "execution_count": null,
   "id": "33a215e1",
   "metadata": {},
   "outputs": [],
   "source": []
  }
 ],
 "metadata": {
  "kernelspec": {
   "display_name": "Python 3 (ipykernel)",
   "language": "python",
   "name": "python3"
  },
  "language_info": {
   "codemirror_mode": {
    "name": "ipython",
    "version": 3
   },
   "file_extension": ".py",
   "mimetype": "text/x-python",
   "name": "python",
   "nbconvert_exporter": "python",
   "pygments_lexer": "ipython3",
   "version": "3.10.9"
  }
 },
 "nbformat": 4,
 "nbformat_minor": 5
}
