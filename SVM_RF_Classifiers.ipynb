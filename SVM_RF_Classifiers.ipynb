{
 "cells": [
  {
   "cell_type": "code",
   "execution_count": 1,
   "id": "9c9f65fb",
   "metadata": {},
   "outputs": [],
   "source": [
    "import os\n",
    "import numpy as np\n",
    "import torch\n",
    "import torchvision\n",
    "from torchvision import transforms, datasets\n",
    "import torch.nn as nn\n",
    "import torch.optim as optim\n",
    "from torch.utils.data import DataLoader, random_split\n",
    "from tqdm import tqdm\n",
    "from sklearn.svm import SVC\n",
    "from sklearn.ensemble import RandomForestClassifier\n",
    "from sklearn.metrics import accuracy_score\n",
    "\n",
    "# Step 1: Read class.txt file\n",
    "with open(r\"C:\\Users\\RahulSingh\\Downloads\\Dataset\\Dataset\\Dataset\\classes.txt\", 'r') as file:\n",
    "    classes = file.read().splitlines()"
   ]
  },
  {
   "cell_type": "code",
   "execution_count": 2,
   "id": "5977a783",
   "metadata": {},
   "outputs": [
    {
     "data": {
      "text/plain": [
       "Dataset ImageFolder\n",
       "    Number of datapoints: 3482\n",
       "    Root location: C:\\Users\\RahulSingh\\Downloads\\Dataset\\Dataset\\Dataset\\Classification\n",
       "    StandardTransform\n",
       "Transform: Compose(\n",
       "               Resize(size=(150, 150), interpolation=bilinear, max_size=None, antialias=warn)\n",
       "               ToTensor()\n",
       "           )"
      ]
     },
     "execution_count": 2,
     "metadata": {},
     "output_type": "execute_result"
    }
   ],
   "source": [
    "# Step 2: Prepare your dataset\n",
    "dataset_path = r\"C:\\Users\\RahulSingh\\Downloads\\Dataset\\Dataset\\Dataset\\Classification\"\n",
    "\n",
    "# Step 3: Define transformations and create dataset\n",
    "transform = transforms.Compose([\n",
    "    transforms.Resize((150, 150)),  # Adjust image size as needed\n",
    "    transforms.ToTensor(),\n",
    "])\n",
    "\n",
    "dataset = datasets.ImageFolder(root=dataset_path, transform=transform)\n",
    "\n",
    "dataset"
   ]
  },
  {
   "cell_type": "code",
   "execution_count": 3,
   "id": "406ccc9e",
   "metadata": {},
   "outputs": [
    {
     "name": "stderr",
     "output_type": "stream",
     "text": [
      "100%|██████████████████████████████████████████████████████████████████████████████| 3482/3482 [09:13<00:00,  6.29it/s]\n"
     ]
    }
   ],
   "source": [
    "# Step 4: Extract features\n",
    "features = []\n",
    "labels = []\n",
    "\n",
    "for image, label in tqdm(dataset):\n",
    "    features.append(image.numpy().flatten())\n",
    "    labels.append(label)\n",
    "\n",
    "features = np.array(features)\n",
    "labels = np.array(labels)"
   ]
  },
  {
   "cell_type": "code",
   "execution_count": 4,
   "id": "4dad31d7",
   "metadata": {},
   "outputs": [
    {
     "data": {
      "text/plain": [
       "array([0, 0, 0, ..., 9, 9, 9])"
      ]
     },
     "execution_count": 4,
     "metadata": {},
     "output_type": "execute_result"
    }
   ],
   "source": [
    "labels"
   ]
  },
  {
   "cell_type": "code",
   "execution_count": 5,
   "id": "518ddf68",
   "metadata": {},
   "outputs": [
    {
     "data": {
      "text/plain": [
       "(67500,)"
      ]
     },
     "execution_count": 5,
     "metadata": {},
     "output_type": "execute_result"
    }
   ],
   "source": [
    "features[1].shape"
   ]
  },
  {
   "cell_type": "code",
   "execution_count": 6,
   "id": "528c2e4e",
   "metadata": {},
   "outputs": [],
   "source": [
    "# Step 5: Split your dataset\n",
    "train_size = int(0.8 * len(features))\n",
    "train_features, test_features = features[:train_size], features[train_size:]\n",
    "train_labels, test_labels = labels[:train_size], labels[train_size:]"
   ]
  },
  {
   "cell_type": "code",
   "execution_count": 7,
   "id": "3516dcbc",
   "metadata": {},
   "outputs": [
    {
     "name": "stdout",
     "output_type": "stream",
     "text": [
      "SVM Test Accuracy: 0.043041606886657105\n"
     ]
    }
   ],
   "source": [
    "# Step 6: Train a classifier\n",
    "# Example 1: SVM Classifier\n",
    "svm_classifier = SVC(kernel='linear')\n",
    "svm_classifier.fit(train_features, train_labels)\n",
    "svm_predictions = svm_classifier.predict(test_features)\n",
    "svm_accuracy = accuracy_score(test_labels, svm_predictions)\n",
    "print(\"SVM Test Accuracy:\", svm_accuracy)"
   ]
  },
  {
   "cell_type": "code",
   "execution_count": 14,
   "id": "65eec68e",
   "metadata": {},
   "outputs": [],
   "source": [
    "import cv2\n",
    "\n",
    "# Load the new image\n",
    "new_image_path = r\"C:\\Users\\RahulSingh\\Downloads\\e.jpg\"  # Replace 'path_to_new_image.jpg' with the path to your new image\n",
    "new_image = cv2.imread(new_image_path)\n",
    "new_image = cv2.resize(new_image, (150, 150))  # Resize the image to match the input size\n",
    "new_image = new_image.flatten()\n",
    "\n",
    "# Preprocess the new image if necessary\n",
    "# For example, you may need to normalize pixel values or apply other transformations\n",
    "\n",
    "# Extract features from the new image\n",
    "new_image_features = new_image.reshape(1, -1)  # Reshape the flattened image"
   ]
  },
  {
   "cell_type": "code",
   "execution_count": 15,
   "id": "e059259f",
   "metadata": {},
   "outputs": [],
   "source": [
    "# Use the trained classifier to predict the class of the new image\n",
    "svm_prediction = svm_classifier.predict(new_image_features)\n",
    "# rf_prediction = rf_classifier.predict(new_image_features)\n",
    "\n",
    "# Convert the predicted class index back to the class label\n",
    "svm_predicted_class = classes[svm_prediction[0]]"
   ]
  },
  {
   "cell_type": "code",
   "execution_count": 16,
   "id": "1de2eb14",
   "metadata": {},
   "outputs": [
    {
     "data": {
      "text/plain": [
       "array([1])"
      ]
     },
     "execution_count": 16,
     "metadata": {},
     "output_type": "execute_result"
    }
   ],
   "source": [
    "svm_prediction"
   ]
  },
  {
   "cell_type": "code",
   "execution_count": 17,
   "id": "ba6fa2a8",
   "metadata": {},
   "outputs": [
    {
     "data": {
      "text/plain": [
       "['ADVE',\n",
       " 'Email',\n",
       " 'Letter',\n",
       " 'News',\n",
       " 'Report',\n",
       " 'Scientific',\n",
       " 'Form',\n",
       " 'Memo',\n",
       " 'Note',\n",
       " 'Resume']"
      ]
     },
     "execution_count": 17,
     "metadata": {},
     "output_type": "execute_result"
    }
   ],
   "source": [
    "classes"
   ]
  },
  {
   "cell_type": "code",
   "execution_count": 18,
   "id": "76de7420",
   "metadata": {},
   "outputs": [
    {
     "name": "stdout",
     "output_type": "stream",
     "text": [
      "Random Forest Test Accuracy: 0.02295552367288379\n"
     ]
    }
   ],
   "source": [
    "rf_classifier = RandomForestClassifier(n_estimators=100)\n",
    "rf_classifier.fit(train_features, train_labels)\n",
    "rf_predictions = rf_classifier.predict(test_features)\n",
    "rf_accuracy = accuracy_score(test_labels, rf_predictions)\n",
    "print(\"Random Forest Test Accuracy:\", rf_accuracy)"
   ]
  },
  {
   "cell_type": "code",
   "execution_count": 21,
   "id": "1a0f3488",
   "metadata": {},
   "outputs": [],
   "source": [
    "# Use the trained classifier to predict the class of the new image\n",
    "rf_prediction = rf_classifier.predict(new_image_features)\n",
    "# rf_prediction = rf_classifier.predict(new_image_features)\n",
    "\n",
    "# Convert the predicted class index back to the class label\n",
    "rf_predicted_class = classes[rf_prediction[0]]"
   ]
  },
  {
   "cell_type": "code",
   "execution_count": 22,
   "id": "b5e5bbdc",
   "metadata": {},
   "outputs": [
    {
     "data": {
      "text/plain": [
       "'Form'"
      ]
     },
     "execution_count": 22,
     "metadata": {},
     "output_type": "execute_result"
    }
   ],
   "source": [
    "rf_predicted_class"
   ]
  },
  {
   "cell_type": "code",
   "execution_count": null,
   "id": "45e0a951",
   "metadata": {},
   "outputs": [],
   "source": []
  }
 ],
 "metadata": {
  "kernelspec": {
   "display_name": "Python 3 (ipykernel)",
   "language": "python",
   "name": "python3"
  },
  "language_info": {
   "codemirror_mode": {
    "name": "ipython",
    "version": 3
   },
   "file_extension": ".py",
   "mimetype": "text/x-python",
   "name": "python",
   "nbconvert_exporter": "python",
   "pygments_lexer": "ipython3",
   "version": "3.10.9"
  }
 },
 "nbformat": 4,
 "nbformat_minor": 5
}
